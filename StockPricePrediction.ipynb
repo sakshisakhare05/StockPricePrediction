{
 "cells": [
  {
   "cell_type": "code",
   "execution_count": null,
   "id": "4481dd98",
   "metadata": {},
   "outputs": [],
   "source": [
    "pip install yfinance"
   ]
  },
  {
   "cell_type": "code",
   "execution_count": null,
   "id": "3d324017",
   "metadata": {},
   "outputs": [],
   "source": [
    "import pandas as pd\n",
    "import numpy as np\n",
    "import pickle\n",
    "import math\n",
    "from sklearn.linear_model import LinearRegression\n",
    "import os\n",
    "from datetime import date\n",
    "#import seaborn as sns\n",
    "import matplotlib.pyplot as plt\n",
    "from sklearn import metrics\n",
    "from sklearn.metrics import mean_absolute_error, mean_squared_error, r2_score\n",
    "from sklearn.model_selection import train_test_split\n",
    "import yfinance as yf  # We will use this library to upload latest data from Yahoo API"
   ]
  },
  {
   "cell_type": "code",
   "execution_count": null,
   "id": "ed1a797b",
   "metadata": {},
   "outputs": [],
   "source": [
    "ticker='AAPL'\n",
    "START = \"2015-01-01\"\n",
    "TODAY = date.today().strftime(\"%Y-%m-%d\")\n",
    "#fetch stock prices for specified period\n",
    "data =yf.download(ticker,start=START, end=TODAY)\n",
    "\n",
    "#print the fetch stock prices\n",
    "print(data)\n"
   ]
  },
  {
   "cell_type": "code",
   "execution_count": null,
   "id": "d1a5f7e7",
   "metadata": {},
   "outputs": [],
   "source": [
    "da=pd.DataFrame(data)\n",
    "\n",
    "da.head()"
   ]
  },
  {
   "cell_type": "code",
   "execution_count": null,
   "id": "87abcc6d",
   "metadata": {},
   "outputs": [],
   "source": [
    "da.info()"
   ]
  },
  {
   "cell_type": "code",
   "execution_count": null,
   "id": "2d57e989",
   "metadata": {},
   "outputs": [],
   "source": [
    "X = da[['High', 'Low', 'Open', 'Volume']].values  # x features\n",
    "y = da['Close'].values\n",
    "X_train, X_test, y_train, y_test = train_test_split(X, y, test_size=0.2, random_state=42, shuffle=False)\n",
    "\n",
    "\n",
    "print(X_train.shape )\n",
    "print(X_test.shape)\n",
    "print(y_train.shape)\n",
    "print(y_test.shape)"
   ]
  },
  {
   "cell_type": "code",
   "execution_count": null,
   "id": "11330cba",
   "metadata": {},
   "outputs": [],
   "source": [
    "# Create and train a linear regression model\n",
    "model = LinearRegression()\n",
    "model.fit(X_train, y_train)"
   ]
  },
  {
   "cell_type": "code",
   "execution_count": null,
   "id": "c3e61d9d",
   "metadata": {},
   "outputs": [],
   "source": [
    "# Predict the stock prices for the test data\n",
    "y_pred = model.predict(X_test)\n",
    "\n",
    "print(y_pred)"
   ]
  },
  {
   "cell_type": "code",
   "execution_count": null,
   "id": "b28eeb5c",
   "metadata": {},
   "outputs": [],
   "source": [
    "\n",
    "dframe=pd.DataFrame({'Actual':y_test.flatten(),'Predicted':y_pred.flatten()})\n",
    "dframe.head(25)"
   ]
  },
  {
   "cell_type": "code",
   "execution_count": null,
   "id": "c11af94f",
   "metadata": {},
   "outputs": [],
   "source": [
    "print('Mean Absolute Error:',metrics.mean_absolute_error(y_test,y_pred))\n",
    "print('Mean Square Error:',metrics.mean_squared_error(y_test,y_pred))\n",
    "print('Root Mean Squared Error:',math.sqrt(metrics.mean_squared_error(y_test,y_pred)))"
   ]
  },
  {
   "cell_type": "code",
   "execution_count": null,
   "id": "8780ab65",
   "metadata": {},
   "outputs": [],
   "source": [
    "# Save the model to a file\n",
    "joblib.dump(model, 'linear_regression_model.pkl')"
   ]
  },
  {
   "cell_type": "code",
   "execution_count": null,
   "id": "3d57fba2",
   "metadata": {},
   "outputs": [],
   "source": []
  }
 ],
 "metadata": {
  "kernelspec": {
   "display_name": "Python 3 (ipykernel)",
   "language": "python",
   "name": "python3"
  },
  "language_info": {
   "codemirror_mode": {
    "name": "ipython",
    "version": 3
   },
   "file_extension": ".py",
   "mimetype": "text/x-python",
   "name": "python",
   "nbconvert_exporter": "python",
   "pygments_lexer": "ipython3",
   "version": "3.9.13"
  }
 },
 "nbformat": 4,
 "nbformat_minor": 5
}
