{
 "cells": [
  {
   "cell_type": "code",
   "execution_count": 4,
   "id": "4481dd98",
   "metadata": {},
   "outputs": [
    {
     "name": "stdout",
     "output_type": "stream",
     "text": [
      "Defaulting to user installation because normal site-packages is not writeable\n",
      "Requirement already satisfied: yfinance in c:\\users\\dell\\appdata\\roaming\\python\\python39\\site-packages (0.2.31)\n",
      "Requirement already satisfied: pandas>=1.3.0 in c:\\programdata\\anaconda3\\lib\\site-packages (from yfinance) (1.4.4)\n",
      "Requirement already satisfied: lxml>=4.9.1 in c:\\programdata\\anaconda3\\lib\\site-packages (from yfinance) (4.9.1)\n",
      "Requirement already satisfied: appdirs>=1.4.4 in c:\\programdata\\anaconda3\\lib\\site-packages (from yfinance) (1.4.4)\n",
      "Requirement already satisfied: pytz>=2022.5 in c:\\users\\dell\\appdata\\roaming\\python\\python39\\site-packages (from yfinance) (2023.3.post1)\n",
      "Requirement already satisfied: html5lib>=1.1 in c:\\users\\dell\\appdata\\roaming\\python\\python39\\site-packages (from yfinance) (1.1)\n",
      "Requirement already satisfied: frozendict>=2.3.4 in c:\\users\\dell\\appdata\\roaming\\python\\python39\\site-packages (from yfinance) (2.3.8)\n",
      "Requirement already satisfied: peewee>=3.16.2 in c:\\users\\dell\\appdata\\roaming\\python\\python39\\site-packages (from yfinance) (3.17.0)\n",
      "Requirement already satisfied: numpy>=1.16.5 in c:\\programdata\\anaconda3\\lib\\site-packages (from yfinance) (1.21.5)\n",
      "Requirement already satisfied: multitasking>=0.0.7 in c:\\users\\dell\\appdata\\roaming\\python\\python39\\site-packages (from yfinance) (0.0.11)\n",
      "Requirement already satisfied: beautifulsoup4>=4.11.1 in c:\\programdata\\anaconda3\\lib\\site-packages (from yfinance) (4.11.1)\n",
      "Requirement already satisfied: requests>=2.31 in c:\\users\\dell\\appdata\\roaming\\python\\python39\\site-packages (from yfinance) (2.31.0)\n",
      "Requirement already satisfied: soupsieve>1.2 in c:\\programdata\\anaconda3\\lib\\site-packages (from beautifulsoup4>=4.11.1->yfinance) (2.3.1)\n",
      "Requirement already satisfied: webencodings in c:\\programdata\\anaconda3\\lib\\site-packages (from html5lib>=1.1->yfinance) (0.5.1)\n",
      "Requirement already satisfied: six>=1.9 in c:\\programdata\\anaconda3\\lib\\site-packages (from html5lib>=1.1->yfinance) (1.16.0)\n",
      "Requirement already satisfied: python-dateutil>=2.8.1 in c:\\programdata\\anaconda3\\lib\\site-packages (from pandas>=1.3.0->yfinance) (2.8.2)\n",
      "Requirement already satisfied: idna<4,>=2.5 in c:\\programdata\\anaconda3\\lib\\site-packages (from requests>=2.31->yfinance) (3.3)\n",
      "Requirement already satisfied: certifi>=2017.4.17 in c:\\programdata\\anaconda3\\lib\\site-packages (from requests>=2.31->yfinance) (2022.9.14)\n",
      "Requirement already satisfied: urllib3<3,>=1.21.1 in c:\\programdata\\anaconda3\\lib\\site-packages (from requests>=2.31->yfinance) (1.26.11)\n",
      "Requirement already satisfied: charset-normalizer<4,>=2 in c:\\programdata\\anaconda3\\lib\\site-packages (from requests>=2.31->yfinance) (2.0.4)\n",
      "Note: you may need to restart the kernel to use updated packages.\n"
     ]
    }
   ],
   "source": [
    "pip install yfinance"
   ]
  },
  {
   "cell_type": "code",
   "execution_count": 1,
   "id": "3d324017",
   "metadata": {},
   "outputs": [],
   "source": [
    "import pandas as pd\n",
    "import numpy as np\n",
    "import pickle\n",
    "import math\n",
    "from sklearn.linear_model import LinearRegression\n",
    "import os\n",
    "from datetime import date\n",
    "#import seaborn as sns\n",
    "import matplotlib.pyplot as plt\n",
    "from sklearn import metrics\n",
    "from sklearn.metrics import mean_absolute_error, mean_squared_error, r2_score\n",
    "from sklearn.model_selection import train_test_split\n",
    "import yfinance as yf  # We will use this library to upload latest data from Yahoo API"
   ]
  },
  {
   "cell_type": "code",
   "execution_count": 9,
   "id": "ed1a797b",
   "metadata": {},
   "outputs": [
    {
     "name": "stdout",
     "output_type": "stream",
     "text": [
      "[*********************100%%**********************]  1 of 1 completed\n",
      "                  Open        High         Low       Close   Adj Close  \\\n",
      "Date                                                                     \n",
      "2015-01-02   27.847500   27.860001   26.837500   27.332500   24.498688   \n",
      "2015-01-05   27.072500   27.162500   26.352501   26.562500   23.808514   \n",
      "2015-01-06   26.635000   26.857500   26.157499   26.565001   23.810755   \n",
      "2015-01-07   26.799999   27.049999   26.674999   26.937500   24.144632   \n",
      "2015-01-08   27.307501   28.037500   27.174999   27.972500   25.072329   \n",
      "...                ...         ...         ...         ...         ...   \n",
      "2023-10-30  169.020004  171.169998  168.869995  170.289993  170.289993   \n",
      "2023-10-31  169.350006  170.899994  167.899994  170.770004  170.770004   \n",
      "2023-11-01  171.000000  174.229996  170.119995  173.970001  173.970001   \n",
      "2023-11-02  175.520004  177.779999  175.460007  177.570007  177.570007   \n",
      "2023-11-03  174.240005  176.820007  173.350006  176.649994  176.649994   \n",
      "\n",
      "               Volume  \n",
      "Date                   \n",
      "2015-01-02  212818400  \n",
      "2015-01-05  257142000  \n",
      "2015-01-06  263188400  \n",
      "2015-01-07  160423600  \n",
      "2015-01-08  237458000  \n",
      "...               ...  \n",
      "2023-10-30   51131000  \n",
      "2023-10-31   44846000  \n",
      "2023-11-01   56934900  \n",
      "2023-11-02   77334800  \n",
      "2023-11-03   79763700  \n",
      "\n",
      "[2226 rows x 6 columns]\n"
     ]
    }
   ],
   "source": [
    "ticker='AAPL'\n",
    "START = \"2015-01-01\"\n",
    "TODAY = date.today().strftime(\"%Y-%m-%d\")\n",
    "#fetch stock prices for specified period\n",
    "data =yf.download(ticker,start=START, end=TODAY)\n",
    "\n",
    "#print the fetch stock prices\n",
    "print(data)\n"
   ]
  },
  {
   "cell_type": "code",
   "execution_count": 10,
   "id": "d1a5f7e7",
   "metadata": {},
   "outputs": [
    {
     "data": {
      "text/html": [
       "<div>\n",
       "<style scoped>\n",
       "    .dataframe tbody tr th:only-of-type {\n",
       "        vertical-align: middle;\n",
       "    }\n",
       "\n",
       "    .dataframe tbody tr th {\n",
       "        vertical-align: top;\n",
       "    }\n",
       "\n",
       "    .dataframe thead th {\n",
       "        text-align: right;\n",
       "    }\n",
       "</style>\n",
       "<table border=\"1\" class=\"dataframe\">\n",
       "  <thead>\n",
       "    <tr style=\"text-align: right;\">\n",
       "      <th></th>\n",
       "      <th>Open</th>\n",
       "      <th>High</th>\n",
       "      <th>Low</th>\n",
       "      <th>Close</th>\n",
       "      <th>Adj Close</th>\n",
       "      <th>Volume</th>\n",
       "    </tr>\n",
       "    <tr>\n",
       "      <th>Date</th>\n",
       "      <th></th>\n",
       "      <th></th>\n",
       "      <th></th>\n",
       "      <th></th>\n",
       "      <th></th>\n",
       "      <th></th>\n",
       "    </tr>\n",
       "  </thead>\n",
       "  <tbody>\n",
       "    <tr>\n",
       "      <th>2015-01-02</th>\n",
       "      <td>27.847500</td>\n",
       "      <td>27.860001</td>\n",
       "      <td>26.837500</td>\n",
       "      <td>27.332500</td>\n",
       "      <td>24.498688</td>\n",
       "      <td>212818400</td>\n",
       "    </tr>\n",
       "    <tr>\n",
       "      <th>2015-01-05</th>\n",
       "      <td>27.072500</td>\n",
       "      <td>27.162500</td>\n",
       "      <td>26.352501</td>\n",
       "      <td>26.562500</td>\n",
       "      <td>23.808514</td>\n",
       "      <td>257142000</td>\n",
       "    </tr>\n",
       "    <tr>\n",
       "      <th>2015-01-06</th>\n",
       "      <td>26.635000</td>\n",
       "      <td>26.857500</td>\n",
       "      <td>26.157499</td>\n",
       "      <td>26.565001</td>\n",
       "      <td>23.810755</td>\n",
       "      <td>263188400</td>\n",
       "    </tr>\n",
       "    <tr>\n",
       "      <th>2015-01-07</th>\n",
       "      <td>26.799999</td>\n",
       "      <td>27.049999</td>\n",
       "      <td>26.674999</td>\n",
       "      <td>26.937500</td>\n",
       "      <td>24.144632</td>\n",
       "      <td>160423600</td>\n",
       "    </tr>\n",
       "    <tr>\n",
       "      <th>2015-01-08</th>\n",
       "      <td>27.307501</td>\n",
       "      <td>28.037500</td>\n",
       "      <td>27.174999</td>\n",
       "      <td>27.972500</td>\n",
       "      <td>25.072329</td>\n",
       "      <td>237458000</td>\n",
       "    </tr>\n",
       "  </tbody>\n",
       "</table>\n",
       "</div>"
      ],
      "text/plain": [
       "                 Open       High        Low      Close  Adj Close     Volume\n",
       "Date                                                                        \n",
       "2015-01-02  27.847500  27.860001  26.837500  27.332500  24.498688  212818400\n",
       "2015-01-05  27.072500  27.162500  26.352501  26.562500  23.808514  257142000\n",
       "2015-01-06  26.635000  26.857500  26.157499  26.565001  23.810755  263188400\n",
       "2015-01-07  26.799999  27.049999  26.674999  26.937500  24.144632  160423600\n",
       "2015-01-08  27.307501  28.037500  27.174999  27.972500  25.072329  237458000"
      ]
     },
     "execution_count": 10,
     "metadata": {},
     "output_type": "execute_result"
    }
   ],
   "source": [
    "da=pd.DataFrame(data)\n",
    "\n",
    "da.head()"
   ]
  },
  {
   "cell_type": "code",
   "execution_count": 11,
   "id": "87abcc6d",
   "metadata": {},
   "outputs": [
    {
     "name": "stdout",
     "output_type": "stream",
     "text": [
      "<class 'pandas.core.frame.DataFrame'>\n",
      "DatetimeIndex: 2226 entries, 2015-01-02 to 2023-11-03\n",
      "Data columns (total 6 columns):\n",
      " #   Column     Non-Null Count  Dtype  \n",
      "---  ------     --------------  -----  \n",
      " 0   Open       2226 non-null   float64\n",
      " 1   High       2226 non-null   float64\n",
      " 2   Low        2226 non-null   float64\n",
      " 3   Close      2226 non-null   float64\n",
      " 4   Adj Close  2226 non-null   float64\n",
      " 5   Volume     2226 non-null   int64  \n",
      "dtypes: float64(5), int64(1)\n",
      "memory usage: 121.7 KB\n"
     ]
    }
   ],
   "source": [
    "da.info()"
   ]
  },
  {
   "cell_type": "code",
   "execution_count": 12,
   "id": "2d57e989",
   "metadata": {},
   "outputs": [
    {
     "name": "stdout",
     "output_type": "stream",
     "text": [
      "(1780, 4)\n",
      "(446, 4)\n",
      "(1780,)\n",
      "(446,)\n"
     ]
    }
   ],
   "source": [
    "X = da[['High', 'Low', 'Open', 'Volume']].values  # x features\n",
    "y = da['Close'].values\n",
    "X_train, X_test, y_train, y_test = train_test_split(X, y, test_size=0.2, random_state=42, shuffle=False)\n",
    "\n",
    "\n",
    "print(X_train.shape )\n",
    "print(X_test.shape)\n",
    "print(y_train.shape)\n",
    "print(y_test.shape)"
   ]
  },
  {
   "cell_type": "code",
   "execution_count": 13,
   "id": "11330cba",
   "metadata": {},
   "outputs": [
    {
     "data": {
      "text/plain": [
       "LinearRegression()"
      ]
     },
     "execution_count": 13,
     "metadata": {},
     "output_type": "execute_result"
    }
   ],
   "source": [
    "# Create and train a linear regression model\n",
    "model = LinearRegression()\n",
    "model.fit(X_train, y_train)"
   ]
  },
  {
   "cell_type": "code",
   "execution_count": 14,
   "id": "c3e61d9d",
   "metadata": {},
   "outputs": [
    {
     "name": "stdout",
     "output_type": "stream",
     "text": [
      "[160.40100966 167.3498358  173.62847898 173.24755071 174.44894002\n",
      " 174.04967812 172.81008177 172.18079381 174.41121044 175.48784722\n",
      " 173.17894414 169.63368945 168.45984164 171.93233107 171.60979428\n",
      " 169.70979617 167.5863627  164.1860105  161.66348976 160.83985845\n",
      " 162.57314948 164.41230934 164.14847549 165.69839934 166.50907209\n",
      " 163.45217941 161.45249008 159.92043196 161.42967239 157.08613328\n",
      " 155.81226168 152.56885587 154.36549335 157.51527151 159.75797275\n",
      " 163.16358881 165.37183535 168.2358793  171.53101095 172.86824702\n",
      " 174.02644907 174.88171255 178.17867736 177.86707076 175.25347276\n",
      " 173.00959075 177.62769128 175.72190304 171.60113786 171.88020599\n",
      " 169.67412031 166.43878368 168.39052086 169.878591   166.92848286\n",
      " 165.76645699 166.42382433 166.71236902 168.7803635  163.87675674\n",
      " 160.74822145 158.11069476 158.67451257 163.34134013 162.06785935\n",
      " 155.3086638  158.82801587 165.04928091 157.38764611 157.43178863\n",
      " 152.98745831 154.47518281 149.41494473 142.63897163 146.35615051\n",
      " 146.07094988 147.87615447 142.0773549  138.84408872 135.60923415\n",
      " 142.23397558 139.1095253  141.08919498 143.06021498 148.81688317\n",
      " 148.62533864 149.69692173 149.92141301 145.86600082 146.63784485\n",
      " 148.02048499 148.7037036  144.36867864 138.18373968 133.6631611\n",
      " 132.42262532 135.22340538 129.97047709 132.29239088 136.33251357\n",
      " 136.56179575 137.32208609 141.35548665 141.95194435 139.60842013\n",
      " 139.50451435 135.52487751 138.19596542 140.32152696 143.37269743\n",
      " 145.92677844 146.87079429 144.96232409 147.38642953 145.18070474\n",
      " 147.51940368 149.37436694 148.34546585 149.86273574 152.63708485\n",
      " 153.37991613 154.52706785 153.45924075 151.73158007 156.19265636\n",
      " 155.48103233 161.82069039 162.94099457 161.55158945 165.54098823\n",
      " 165.67301834 165.13131847 165.83181736 164.80294294 168.32245842\n",
      " 169.28844298 171.3183231  172.78581623 172.54217961 175.30926385\n",
      " 174.04975149 172.1607116  167.76233768 167.95893286 167.00846219\n",
      " 169.4226353  165.70164338 161.48650321 159.1020166  158.03036694\n",
      " 156.5512149  156.61813072 154.79126427 155.33299169 154.50333817\n",
      " 156.7807286  163.19623996 155.50859536 155.72440415 152.58631275\n",
      " 149.02504508 153.51289288 157.00366922 155.63113105 152.92029984\n",
      " 149.31938835 152.99954992 152.23751946 147.98822493 142.51147114\n",
      " 140.28321063 141.85187626 145.30355329 145.98649885 146.69323704\n",
      " 140.60577879 140.17872653 139.76305947 139.31713176 141.82015932\n",
      " 139.89061934 141.88799571 142.82186226 144.2034557  145.06065627\n",
      " 146.84013163 148.77445622 151.44323654 149.53891809 145.86542352\n",
      " 155.75332926 152.97828849 150.90617131 148.6947793  140.11775396\n",
      " 136.82219789 137.65997742 138.99956959 135.54813829 144.66692026\n",
      " 148.20938466 148.79653041 150.55982899 148.25077292 150.4149179\n",
      " 150.75448748 148.39042163 149.0683101  151.24259918 147.76950434\n",
      " 144.98386248 141.70863929 146.94039197 147.65703161 147.31549811\n",
      " 148.87192989 143.37418328 141.45217074 142.27700271 143.91954821\n",
      " 142.89493046 145.91089019 143.27517367 137.85456226 135.16159411\n",
      " 132.28271578 131.75515388 135.96218261 131.44297285 131.1394684\n",
      " 129.32578203 127.94707557 129.80116991 128.87619592 126.23676873\n",
      " 126.95564144 125.81530355 128.75690722 132.44112319 129.4282756\n",
      " 132.4781784  132.28184573 134.11357415 136.29349314 136.91040874\n",
      " 135.57610887 136.71725093 142.29371179 142.59580427 140.54927984\n",
      " 143.01371154 146.44861299 143.7646503  143.6346323  144.16339721\n",
      " 150.12367307 155.76294952 151.53380552 154.41583939 152.33217329\n",
      " 151.64029331 150.7248491  153.6036206  152.44458498 154.81346723\n",
      " 155.63535419 151.63358958 149.67113281 148.38869923 148.0674789\n",
      " 145.98923136 148.60639204 148.46870904 145.67935374 145.877076\n",
      " 149.99687433 155.51088437 151.93621503 152.48229437 151.81764957\n",
      " 148.77155363 152.15530208 152.06491426 151.85608632 155.31179222\n",
      " 155.12458196 156.58228791 158.34546591 160.47180896 160.14755788\n",
      " 159.20474241 158.96044243 156.78608433 160.60354411 161.9444906\n",
      " 164.05586135 165.76466752 165.51464178 162.67471097 164.10631572\n",
      " 160.77331605 160.82064139 160.70043546 164.87781824 165.31962389\n",
      " 164.37151302 166.69077985 167.44249975 167.03058402 165.63681833\n",
      " 164.50646739 164.8928316  164.58743485 167.88807404 169.00143927\n",
      " 169.60481652 168.25283278 168.81323637 166.10070833 173.43490246\n",
      " 173.16426388 172.19893295 172.85295578 173.0470536  171.88414831\n",
      " 171.75875437 172.62181184 171.60342688 174.39810171 175.09966951\n",
      " 173.99758796 171.77939759 171.60537054 172.94739772 175.05764333\n",
      " 178.19531482 178.39913966 178.99210309 180.14939655 181.0493035\n",
      " 178.01483747 179.78820532 179.89276401 181.255552   183.0758485\n",
      " 183.4547     183.02412372 185.78758203 184.89196303 185.61905701\n",
      " 183.42325095 186.30830476 186.64538392 186.47778434 187.64219717\n",
      " 189.13795098 189.5727829  193.54617415 192.14902374 191.84131384\n",
      " 191.00818859 191.39328523 188.02423495 187.17547123 190.29018676\n",
      " 190.3157781  190.35847283 193.66445708 193.25730368 196.94198023\n",
      " 194.14288369 192.50235747 193.60623556 193.73077072 194.85483686\n",
      " 194.272888   195.71444078 195.58300013 195.70224722 192.58936412\n",
      " 191.35196172 184.24830874 179.28103887 178.41629712 177.88984009\n",
      " 178.98031442 177.64928374 178.74758127 177.84154908 177.65901921\n",
      " 174.57673444 174.24676958 174.79637548 176.77582127 180.76776983\n",
      " 177.4410815  177.55109499 179.17032954 183.8256617  187.05868514\n",
      " 188.42035589 188.7269733  189.01202549 183.52671376 176.35545187\n",
      " 179.3327322  178.05152693 176.41653451 175.11318863 175.27728799\n",
      " 174.304424   178.52332505 178.82642324 176.61472223 175.32655383\n",
      " 176.07466062 176.33462619 172.62986834 170.17306679 170.20897622\n",
      " 171.48880635 173.45394312 172.1804237  173.48052488 174.19731519\n",
      " 176.75432815 177.7916498  179.15651875 178.95689871 181.04800929\n",
      " 179.25229476 178.35653866 176.61044602 176.73520149 176.74463754\n",
      " 173.23615052 172.66409204 172.20525739 171.78188856 167.62693438\n",
      " 168.40316231 170.55042806 169.42841494 172.93820168 177.18164213\n",
      " 175.58498549]\n"
     ]
    }
   ],
   "source": [
    "# Predict the stock prices for the test data\n",
    "y_pred = model.predict(X_test)\n",
    "\n",
    "print(y_pred)"
   ]
  },
  {
   "cell_type": "code",
   "execution_count": 15,
   "id": "b28eeb5c",
   "metadata": {},
   "outputs": [
    {
     "data": {
      "text/html": [
       "<div>\n",
       "<style scoped>\n",
       "    .dataframe tbody tr th:only-of-type {\n",
       "        vertical-align: middle;\n",
       "    }\n",
       "\n",
       "    .dataframe tbody tr th {\n",
       "        vertical-align: top;\n",
       "    }\n",
       "\n",
       "    .dataframe thead th {\n",
       "        text-align: right;\n",
       "    }\n",
       "</style>\n",
       "<table border=\"1\" class=\"dataframe\">\n",
       "  <thead>\n",
       "    <tr style=\"text-align: right;\">\n",
       "      <th></th>\n",
       "      <th>Actual</th>\n",
       "      <th>Predicted</th>\n",
       "    </tr>\n",
       "  </thead>\n",
       "  <tbody>\n",
       "    <tr>\n",
       "      <th>0</th>\n",
       "      <td>159.220001</td>\n",
       "      <td>160.401010</td>\n",
       "    </tr>\n",
       "    <tr>\n",
       "      <th>1</th>\n",
       "      <td>170.330002</td>\n",
       "      <td>167.349836</td>\n",
       "    </tr>\n",
       "    <tr>\n",
       "      <th>2</th>\n",
       "      <td>174.779999</td>\n",
       "      <td>173.628479</td>\n",
       "    </tr>\n",
       "    <tr>\n",
       "      <th>3</th>\n",
       "      <td>174.610001</td>\n",
       "      <td>173.247551</td>\n",
       "    </tr>\n",
       "    <tr>\n",
       "      <th>4</th>\n",
       "      <td>175.839996</td>\n",
       "      <td>174.448940</td>\n",
       "    </tr>\n",
       "    <tr>\n",
       "      <th>5</th>\n",
       "      <td>172.899994</td>\n",
       "      <td>174.049678</td>\n",
       "    </tr>\n",
       "    <tr>\n",
       "      <th>6</th>\n",
       "      <td>172.389999</td>\n",
       "      <td>172.810082</td>\n",
       "    </tr>\n",
       "    <tr>\n",
       "      <th>7</th>\n",
       "      <td>171.660004</td>\n",
       "      <td>172.180794</td>\n",
       "    </tr>\n",
       "    <tr>\n",
       "      <th>8</th>\n",
       "      <td>174.830002</td>\n",
       "      <td>174.411210</td>\n",
       "    </tr>\n",
       "    <tr>\n",
       "      <th>9</th>\n",
       "      <td>176.279999</td>\n",
       "      <td>175.487847</td>\n",
       "    </tr>\n",
       "    <tr>\n",
       "      <th>10</th>\n",
       "      <td>172.119995</td>\n",
       "      <td>173.178944</td>\n",
       "    </tr>\n",
       "    <tr>\n",
       "      <th>11</th>\n",
       "      <td>168.639999</td>\n",
       "      <td>169.633689</td>\n",
       "    </tr>\n",
       "    <tr>\n",
       "      <th>12</th>\n",
       "      <td>168.880005</td>\n",
       "      <td>168.459842</td>\n",
       "    </tr>\n",
       "    <tr>\n",
       "      <th>13</th>\n",
       "      <td>172.789993</td>\n",
       "      <td>171.932331</td>\n",
       "    </tr>\n",
       "    <tr>\n",
       "      <th>14</th>\n",
       "      <td>172.550003</td>\n",
       "      <td>171.609794</td>\n",
       "    </tr>\n",
       "    <tr>\n",
       "      <th>15</th>\n",
       "      <td>168.880005</td>\n",
       "      <td>169.709796</td>\n",
       "    </tr>\n",
       "    <tr>\n",
       "      <th>16</th>\n",
       "      <td>167.300003</td>\n",
       "      <td>167.586363</td>\n",
       "    </tr>\n",
       "    <tr>\n",
       "      <th>17</th>\n",
       "      <td>164.320007</td>\n",
       "      <td>164.186011</td>\n",
       "    </tr>\n",
       "    <tr>\n",
       "      <th>18</th>\n",
       "      <td>160.070007</td>\n",
       "      <td>161.663490</td>\n",
       "    </tr>\n",
       "    <tr>\n",
       "      <th>19</th>\n",
       "      <td>162.740005</td>\n",
       "      <td>160.839858</td>\n",
       "    </tr>\n",
       "    <tr>\n",
       "      <th>20</th>\n",
       "      <td>164.850006</td>\n",
       "      <td>162.573149</td>\n",
       "    </tr>\n",
       "    <tr>\n",
       "      <th>21</th>\n",
       "      <td>165.119995</td>\n",
       "      <td>164.412309</td>\n",
       "    </tr>\n",
       "    <tr>\n",
       "      <th>22</th>\n",
       "      <td>163.199997</td>\n",
       "      <td>164.148475</td>\n",
       "    </tr>\n",
       "    <tr>\n",
       "      <th>23</th>\n",
       "      <td>166.559998</td>\n",
       "      <td>165.698399</td>\n",
       "    </tr>\n",
       "    <tr>\n",
       "      <th>24</th>\n",
       "      <td>166.229996</td>\n",
       "      <td>166.509072</td>\n",
       "    </tr>\n",
       "  </tbody>\n",
       "</table>\n",
       "</div>"
      ],
      "text/plain": [
       "        Actual   Predicted\n",
       "0   159.220001  160.401010\n",
       "1   170.330002  167.349836\n",
       "2   174.779999  173.628479\n",
       "3   174.610001  173.247551\n",
       "4   175.839996  174.448940\n",
       "5   172.899994  174.049678\n",
       "6   172.389999  172.810082\n",
       "7   171.660004  172.180794\n",
       "8   174.830002  174.411210\n",
       "9   176.279999  175.487847\n",
       "10  172.119995  173.178944\n",
       "11  168.639999  169.633689\n",
       "12  168.880005  168.459842\n",
       "13  172.789993  171.932331\n",
       "14  172.550003  171.609794\n",
       "15  168.880005  169.709796\n",
       "16  167.300003  167.586363\n",
       "17  164.320007  164.186011\n",
       "18  160.070007  161.663490\n",
       "19  162.740005  160.839858\n",
       "20  164.850006  162.573149\n",
       "21  165.119995  164.412309\n",
       "22  163.199997  164.148475\n",
       "23  166.559998  165.698399\n",
       "24  166.229996  166.509072"
      ]
     },
     "execution_count": 15,
     "metadata": {},
     "output_type": "execute_result"
    }
   ],
   "source": [
    "\n",
    "dframe=pd.DataFrame({'Actual':y_test.flatten(),'Predicted':y_pred.flatten()})\n",
    "dframe.head(25)"
   ]
  },
  {
   "cell_type": "code",
   "execution_count": 16,
   "id": "c11af94f",
   "metadata": {},
   "outputs": [
    {
     "name": "stdout",
     "output_type": "stream",
     "text": [
      "Mean Absolute Error: 0.802487929764573\n",
      "Mean Square Error: 1.0058822552985862\n",
      "Root Mean Squared Error: 1.0029368152075115\n"
     ]
    }
   ],
   "source": [
    "print('Mean Absolute Error:',metrics.mean_absolute_error(y_test,y_pred))\n",
    "print('Mean Square Error:',metrics.mean_squared_error(y_test,y_pred))\n",
    "print('Root Mean Squared Error:',math.sqrt(metrics.mean_squared_error(y_test,y_pred)))"
   ]
  },
  {
   "cell_type": "code",
   "execution_count": 19,
   "id": "8780ab65",
   "metadata": {},
   "outputs": [
    {
     "data": {
      "text/plain": [
       "['linear_regression_model.pkl']"
      ]
     },
     "execution_count": 19,
     "metadata": {},
     "output_type": "execute_result"
    }
   ],
   "source": [
    "# Save the model to a file\n",
    "joblib.dump(model, 'linear_regression_model.pkl')"
   ]
  },
  {
   "cell_type": "code",
   "execution_count": 21,
   "id": "c32e5407",
   "metadata": {},
   "outputs": [
    {
     "ename": "SyntaxError",
     "evalue": "(unicode error) 'unicodeescape' codec can't decode bytes in position 2-3: truncated \\UXXXXXXXX escape (2637637472.py, line 4)",
     "output_type": "error",
     "traceback": [
      "\u001b[1;36m  File \u001b[1;32m\"C:\\Users\\Dell\\AppData\\Local\\Temp\\ipykernel_2620\\2637637472.py\"\u001b[1;36m, line \u001b[1;32m4\u001b[0m\n\u001b[1;33m    model_directory = \"C:\\Users\\Dell\"\u001b[0m\n\u001b[1;37m                                     ^\u001b[0m\n\u001b[1;31mSyntaxError\u001b[0m\u001b[1;31m:\u001b[0m (unicode error) 'unicodeescape' codec can't decode bytes in position 2-3: truncated \\UXXXXXXXX escape\n"
     ]
    }
   ],
   "source": [
    "import os\n",
    "\n",
    "# Specify the directory where you saved the model file\n",
    "model_directory = \"C:\\Users\\Dell\"\n",
    "\n",
    "# Specify the model file name\n",
    "model_filename = \"linear_regression_model.pkl\"\n",
    "\n",
    "# Get the absolute file path\n",
    "model_file_path = os.path.join(model_directory, model_filename)\n",
    "\n",
    "# Print the file path\n",
    "print(\"Model file path:\", model_file_path)\n"
   ]
  },
  {
   "cell_type": "code",
   "execution_count": 1,
   "id": "040f5472",
   "metadata": {},
   "outputs": [
    {
     "name": "stdout",
     "output_type": "stream",
     "text": [
      "C:\\Users\\Dell\\Stock_Price\n"
     ]
    }
   ],
   "source": [
    "import os\n",
    "print(os.getcwd())\n"
   ]
  },
  {
   "cell_type": "code",
   "execution_count": 2,
   "id": "2ede5ede",
   "metadata": {},
   "outputs": [
    {
     "name": "stderr",
     "output_type": "stream",
     "text": [
      "Usage: streamlit run [OPTIONS] TARGET [ARGS]...\n",
      "Try 'streamlit run --help' for help.\n",
      "\n",
      "Error: Invalid value: File does not exist: stock.py\n"
     ]
    }
   ],
   "source": [
    "!streamlit run stock.py"
   ]
  },
  {
   "cell_type": "code",
   "execution_count": null,
   "id": "3d57fba2",
   "metadata": {},
   "outputs": [],
   "source": []
  }
 ],
 "metadata": {
  "kernelspec": {
   "display_name": "Python 3 (ipykernel)",
   "language": "python",
   "name": "python3"
  },
  "language_info": {
   "codemirror_mode": {
    "name": "ipython",
    "version": 3
   },
   "file_extension": ".py",
   "mimetype": "text/x-python",
   "name": "python",
   "nbconvert_exporter": "python",
   "pygments_lexer": "ipython3",
   "version": "3.9.13"
  }
 },
 "nbformat": 4,
 "nbformat_minor": 5
}
